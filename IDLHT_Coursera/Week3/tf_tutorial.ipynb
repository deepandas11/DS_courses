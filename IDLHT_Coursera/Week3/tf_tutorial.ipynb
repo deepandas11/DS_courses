{
 "cells": [
  {
   "cell_type": "code",
   "execution_count": 2,
   "metadata": {},
   "outputs": [],
   "source": [
    "import math\n",
    "import numpy as np\n",
    "import h5py\n",
    "import matplotlib.pyplot as plt\n",
    "import tensorflow as tf\n",
    "from tensorflow.python.framework import ops\n",
    "from tf_utils import load_dataset, random_mini_batches, convert_to_one_hot, predict\n",
    "\n",
    "%matplotlib inline\n",
    "np.random.seed(1)"
   ]
  },
  {
   "cell_type": "code",
   "execution_count": 6,
   "metadata": {},
   "outputs": [
    {
     "name": "stdout",
     "output_type": "stream",
     "text": [
      "9\n"
     ]
    }
   ],
   "source": [
    "y_hat = tf.constant(36, name = 'y_hat')\n",
    "y = tf.constant(39, name = 'y')\n",
    "\n",
    "loss = tf.Variable((y-y_hat)**2, name = 'loss')\n",
    "\n",
    "init = tf.global_variables_initializer()\n",
    "\n",
    "with tf.Session() as session:\n",
    "    session.run(init)\n",
    "    print(session.run(loss))"
   ]
  },
  {
   "cell_type": "markdown",
   "metadata": {},
   "source": [
    "Tensor(\"Mul:0\", shape=(), dtype=int32)\n",
    "As expected, you will not see 20! You got a tensor saying that the result is a tensor that does not have the shape attribute, and is of type \"int32\". All you did was put in the 'computation graph', but you have not run this computation yet. In order to actually multiply the two numbers, you will have to create a session and run it."
   ]
  },
  {
   "cell_type": "code",
   "execution_count": 7,
   "metadata": {},
   "outputs": [
    {
     "name": "stdout",
     "output_type": "stream",
     "text": [
      "Tensor(\"Mul:0\", shape=(), dtype=int32)\n"
     ]
    }
   ],
   "source": [
    "a = tf.constant(2)\n",
    "b = tf.constant(10)\n",
    "c = tf.multiply(a,b)\n",
    "print(c)"
   ]
  },
  {
   "cell_type": "code",
   "execution_count": 8,
   "metadata": {},
   "outputs": [
    {
     "name": "stdout",
     "output_type": "stream",
     "text": [
      "20\n"
     ]
    }
   ],
   "source": [
    "sess = tf.Session()\n",
    "print(sess.run(c))"
   ]
  },
  {
   "cell_type": "markdown",
   "metadata": {},
   "source": [
    "### Linear Function\n",
    "\n",
    "Y = WX +b\n",
    "\n",
    "X = tf.constat(np.random.randn(3,1), name = \"X\")\n",
    "\n",
    "tf.matmul - Matrix multiplication\n",
    "tf.add() - Add\n",
    "\n",
    "\n",
    "\n"
   ]
  },
  {
   "cell_type": "code",
   "execution_count": 11,
   "metadata": {},
   "outputs": [],
   "source": [
    "def linear_function():\n",
    "    \n",
    "    W = np.random.randn(4,3)\n",
    "    X = np.random.randn(3,1)\n",
    "    b = np.random.randn(4,1)\n",
    "    Y = tf.add(tf.matmul(W,X),b)\n",
    "    \n",
    "    sess = tf.Session()\n",
    "    result = sess.run(Y)\n",
    "    \n",
    "    sess.close()\n",
    "    \n",
    "    return result"
   ]
  },
  {
   "cell_type": "code",
   "execution_count": 12,
   "metadata": {},
   "outputs": [
    {
     "name": "stdout",
     "output_type": "stream",
     "text": [
      "[[-1.98748544]\n",
      " [-2.76826248]\n",
      " [-0.78635415]\n",
      " [-2.77463846]]\n"
     ]
    }
   ],
   "source": [
    "print(str(linear_function()))"
   ]
  },
  {
   "cell_type": "markdown",
   "metadata": {},
   "source": [
    "### Implementing Sigmoid function: \n",
    "\n",
    "tf.placeholder(tf.float32, name = \"...\")\n",
    "\n",
    "tf.sigmoid(...)\n",
    "\n",
    "sess.run(..., feed_dict = {x: z})"
   ]
  },
  {
   "cell_type": "code",
   "execution_count": 16,
   "metadata": {},
   "outputs": [
    {
     "name": "stdout",
     "output_type": "stream",
     "text": [
      "0.5\n"
     ]
    }
   ],
   "source": [
    "def sigmoid(z):\n",
    "    \n",
    "    x = tf.placeholder(tf.float32, name = \"x\")\n",
    "    \n",
    "    sigmoid = tf.sigmoid(x)\n",
    "    \n",
    "    with tf.Session() as sess:\n",
    "        result = sess.run(sigmoid, feed_dict = {x:z})\n",
    "    \n",
    "    return result\n",
    "\n",
    "print(str(sigmoid(0)))"
   ]
  },
  {
   "cell_type": "markdown",
   "metadata": {},
   "source": [
    "### Computing Cost\n",
    "\n",
    "tf.nn.sigmoid_cross_entropy_with_logits(logits = ...,  labels = ...)\n"
   ]
  },
  {
   "cell_type": "code",
   "execution_count": 17,
   "metadata": {},
   "outputs": [
    {
     "name": "stdout",
     "output_type": "stream",
     "text": [
      "[1.0053872  1.0366409  0.41385433 0.39956614]\n"
     ]
    }
   ],
   "source": [
    "def cost(logits1, labels1):\n",
    "    \n",
    "    z = tf.placeholder(tf.float32, name = \"z\")\n",
    "    y = tf.placeholder(tf.float32, name = \"y\")\n",
    "    \n",
    "    cost = tf.nn.sigmoid_cross_entropy_with_logits(logits= z,labels=y)\n",
    "    \n",
    "    with tf.Session() as sess:\n",
    "        c = sess.run(cost, feed_dict = {z: logits1, y: labels1})\n",
    "        \n",
    "    return c\n",
    "\n",
    "logits = sigmoid(np.array([0.2,0.4,0.7,0.9]))\n",
    "cost = cost(logits, np.array([0,0,1,1]))\n",
    "print(str(cost))\n",
    "        \n",
    "    \n",
    "    "
   ]
  },
  {
   "cell_type": "markdown",
   "metadata": {},
   "source": [
    "### One hot matrix\n",
    "\n",
    "\n",
    "tf.one_hot(labels, depth, axis)\n",
    "\n"
   ]
  },
  {
   "cell_type": "code",
   "execution_count": 26,
   "metadata": {},
   "outputs": [
    {
     "name": "stdout",
     "output_type": "stream",
     "text": [
      "one_hot = \n",
      "[[0. 0. 0. 0. 0. 0.]\n",
      " [1. 0. 0. 0. 0. 1.]\n",
      " [0. 1. 0. 0. 1. 0.]\n",
      " [0. 0. 0. 0. 0. 0.]]\n"
     ]
    }
   ],
   "source": [
    "def one_hot_matrix(labels, C):\n",
    "    \n",
    "    C = tf.constant(C, name = \"C\")\n",
    "    \n",
    "    one_hot_matrix = tf.one_hot(indices = labels, depth = C, axis = 0)\n",
    "    \n",
    "    sess = tf.Session()\n",
    "    one_hot = sess.run(one_hot_matrix)\n",
    "    sess.close()\n",
    "    \n",
    "    return one_hot\n",
    "\n",
    "\n",
    "labels = np.array([1,2,4,5,2,1])\n",
    "one_hot = one_hot_matrix(labels, C=4)\n",
    "print (\"one_hot = \\n\" + str(one_hot))"
   ]
  },
  {
   "cell_type": "code",
   "execution_count": null,
   "metadata": {},
   "outputs": [],
   "source": []
  }
 ],
 "metadata": {
  "kernelspec": {
   "display_name": "Python 3",
   "language": "python",
   "name": "python3"
  },
  "language_info": {
   "codemirror_mode": {
    "name": "ipython",
    "version": 3
   },
   "file_extension": ".py",
   "mimetype": "text/x-python",
   "name": "python",
   "nbconvert_exporter": "python",
   "pygments_lexer": "ipython3",
   "version": "3.6.5"
  }
 },
 "nbformat": 4,
 "nbformat_minor": 2
}
